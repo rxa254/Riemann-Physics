{
 "cells": [
  {
   "cell_type": "code",
   "execution_count": null,
   "id": "83c096b1-5013-48cc-a2e3-ae4516cb417c",
   "metadata": {},
   "outputs": [],
   "source": [
    "import matplotlib.pyplot as plt \n",
    "from mpmath import * \n",
    "from colorsys import hsv_to_rgb\n",
    "import numpy as np\n",
    "#%matplotlib inline\n",
    "\n",
    "from timeit import default_timer as timer\n",
    "\n",
    "\n",
    "pi = np.pi\n",
    "\n",
    "def PerFract(x, t, m, M):\n",
    "    x = x/t\n",
    "    return m + (M - m) * (x - floor(x)) \n",
    "\n",
    "\n",
    "def color_clines(fz):# this is the color function that replaces the \n",
    "                     #default  color function implemented in mpmath.cplot\n",
    "    if isinf(fz):\n",
    "        return (0, 0, 1.0)#hsv code\n",
    "    if isnan(fz):\n",
    "        return (0., 0., 0.5)\n",
    "\n",
    "    n = 15 #n is the number of rays drawn in a cycle\n",
    "    \n",
    "    h = (float(arg(fz)) + pi) / (2*pi) #hue\n",
    "    h = (h - 0.5) % 1\n",
    "\n",
    "    Phc = PerFract(h, 1/n, 0.2, 1) #  set brightness between 0.6 and 1,\n",
    "                                   #in order to avoid too dark colors   \n",
    "    modul = fabs(fz)\n",
    "    Logm  = log(modul)\n",
    "    s     = 0.9 #saturation\n",
    "      \n",
    "    Modc  = PerFract(Logm, 2*pi/n, 0.6, 1)\n",
    "    v     = Modc*Phc \n",
    "     \n",
    "    return  hsv_to_rgb(h, s, v) \n",
    "\n",
    "fig_dir = 'Figures/'\n",
    "\n",
    "plt.rcParams['figure.figsize'] = 17, 17 "
   ]
  },
  {
   "cell_type": "code",
   "execution_count": null,
   "id": "d430f176-64f4-49b5-b163-da273f8691df",
   "metadata": {},
   "outputs": [],
   "source": [
    "t_0 = timer()\n",
    "\n",
    "hag = cplot(zeta, re=[-15, 15], im=[-30, 30], verbose=False, points=4e5, \\\n",
    "      file=fig_dir + 'Riemann-Zeta-Func.png')\n",
    "\n",
    "t_elapsed = timer() - t_0\n",
    "print('Elapsed time = {t:4.4f} seconds.'.format(t = t_elapsed))"
   ]
  },
  {
   "cell_type": "code",
   "execution_count": null,
   "id": "dc44fa9c-6a68-460f-9450-d5dd4ae197d0",
   "metadata": {},
   "outputs": [],
   "source": [
    "\n",
    "# lets focus on the critical strip\n",
    "t_0 = timer()\n",
    "cplot(zeta, re=[0, 1], im=[1, 10000], verbose=False, points=4e5, \\\n",
    "      file=fig_dir + 'Riemann-Zeta-Func-critical-strip.png')\n",
    "plt.yscale('log')\n",
    "\n",
    "t_elapsed = timer() - t_0\n",
    "print('Elapsed time = {t:4.4f} seconds.'.format(t = t_elapsed))\n",
    "\n",
    "plt.savefig(fig_dir + 'Riemann-Zeta-Func-critical-strip.png', bbox_inches='tight', dpi=144)"
   ]
  },
  {
   "cell_type": "code",
   "execution_count": null,
   "id": "698ddbbf-cd90-48f3-ae73-c6a2ae4b6c9d",
   "metadata": {},
   "outputs": [],
   "source": []
  },
  {
   "cell_type": "code",
   "execution_count": null,
   "id": "26503a22-6500-436f-99ed-3db1dabf7911",
   "metadata": {},
   "outputs": [],
   "source": []
  }
 ],
 "metadata": {
  "kernelspec": {
   "display_name": "Python 3 (ipykernel)",
   "language": "python",
   "name": "python3"
  },
  "language_info": {
   "codemirror_mode": {
    "name": "ipython",
    "version": 3
   },
   "file_extension": ".py",
   "mimetype": "text/x-python",
   "name": "python",
   "nbconvert_exporter": "python",
   "pygments_lexer": "ipython3",
   "version": "3.10.0"
  }
 },
 "nbformat": 4,
 "nbformat_minor": 5
}
